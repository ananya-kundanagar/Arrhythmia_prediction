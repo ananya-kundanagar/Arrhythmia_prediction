{
 "cells": [
  {
   "cell_type": "code",
   "execution_count": 72,
   "id": "5a9b7da4",
   "metadata": {},
   "outputs": [],
   "source": [
    "import pandas as pd\n",
    "import numpy as np\n",
    "import matplotlib.pyplot as plt"
   ]
  },
  {
   "cell_type": "code",
   "execution_count": 73,
   "id": "1d74bc22",
   "metadata": {},
   "outputs": [],
   "source": [
    "df = pd.read_csv('data_arrhythmia.csv', delimiter = ';',na_values = ['?'])"
   ]
  },
  {
   "cell_type": "code",
   "execution_count": 74,
   "id": "24e5494b",
   "metadata": {},
   "outputs": [
    {
     "data": {
      "text/html": [
       "<div>\n",
       "<style scoped>\n",
       "    .dataframe tbody tr th:only-of-type {\n",
       "        vertical-align: middle;\n",
       "    }\n",
       "\n",
       "    .dataframe tbody tr th {\n",
       "        vertical-align: top;\n",
       "    }\n",
       "\n",
       "    .dataframe thead th {\n",
       "        text-align: right;\n",
       "    }\n",
       "</style>\n",
       "<table border=\"1\" class=\"dataframe\">\n",
       "  <thead>\n",
       "    <tr style=\"text-align: right;\">\n",
       "      <th></th>\n",
       "      <th>age</th>\n",
       "      <th>sex</th>\n",
       "      <th>height</th>\n",
       "      <th>weight</th>\n",
       "      <th>qrs_duration</th>\n",
       "      <th>p-r_interval</th>\n",
       "      <th>q-t_interval</th>\n",
       "      <th>t_interval</th>\n",
       "      <th>p_interval</th>\n",
       "      <th>qrs</th>\n",
       "      <th>...</th>\n",
       "      <th>KY</th>\n",
       "      <th>KZ</th>\n",
       "      <th>LA</th>\n",
       "      <th>LB</th>\n",
       "      <th>LC</th>\n",
       "      <th>LD</th>\n",
       "      <th>LE</th>\n",
       "      <th>LF</th>\n",
       "      <th>LG</th>\n",
       "      <th>diagnosis</th>\n",
       "    </tr>\n",
       "  </thead>\n",
       "  <tbody>\n",
       "    <tr>\n",
       "      <th>0</th>\n",
       "      <td>75</td>\n",
       "      <td>0</td>\n",
       "      <td>190</td>\n",
       "      <td>80</td>\n",
       "      <td>91</td>\n",
       "      <td>193</td>\n",
       "      <td>371</td>\n",
       "      <td>174</td>\n",
       "      <td>121</td>\n",
       "      <td>-16</td>\n",
       "      <td>...</td>\n",
       "      <td>0.0</td>\n",
       "      <td>9.0</td>\n",
       "      <td>-0.9</td>\n",
       "      <td>0.0</td>\n",
       "      <td>0</td>\n",
       "      <td>0.9</td>\n",
       "      <td>2.9</td>\n",
       "      <td>23.3</td>\n",
       "      <td>49.4</td>\n",
       "      <td>8</td>\n",
       "    </tr>\n",
       "    <tr>\n",
       "      <th>1</th>\n",
       "      <td>56</td>\n",
       "      <td>1</td>\n",
       "      <td>165</td>\n",
       "      <td>64</td>\n",
       "      <td>81</td>\n",
       "      <td>174</td>\n",
       "      <td>401</td>\n",
       "      <td>149</td>\n",
       "      <td>39</td>\n",
       "      <td>25</td>\n",
       "      <td>...</td>\n",
       "      <td>0.0</td>\n",
       "      <td>8.5</td>\n",
       "      <td>0.0</td>\n",
       "      <td>0.0</td>\n",
       "      <td>0</td>\n",
       "      <td>0.2</td>\n",
       "      <td>2.1</td>\n",
       "      <td>20.4</td>\n",
       "      <td>38.8</td>\n",
       "      <td>6</td>\n",
       "    </tr>\n",
       "    <tr>\n",
       "      <th>2</th>\n",
       "      <td>54</td>\n",
       "      <td>0</td>\n",
       "      <td>172</td>\n",
       "      <td>95</td>\n",
       "      <td>138</td>\n",
       "      <td>163</td>\n",
       "      <td>386</td>\n",
       "      <td>185</td>\n",
       "      <td>102</td>\n",
       "      <td>96</td>\n",
       "      <td>...</td>\n",
       "      <td>0.0</td>\n",
       "      <td>9.5</td>\n",
       "      <td>-2.4</td>\n",
       "      <td>0.0</td>\n",
       "      <td>0</td>\n",
       "      <td>0.3</td>\n",
       "      <td>3.4</td>\n",
       "      <td>12.3</td>\n",
       "      <td>49.0</td>\n",
       "      <td>10</td>\n",
       "    </tr>\n",
       "    <tr>\n",
       "      <th>3</th>\n",
       "      <td>55</td>\n",
       "      <td>0</td>\n",
       "      <td>175</td>\n",
       "      <td>94</td>\n",
       "      <td>100</td>\n",
       "      <td>202</td>\n",
       "      <td>380</td>\n",
       "      <td>179</td>\n",
       "      <td>143</td>\n",
       "      <td>28</td>\n",
       "      <td>...</td>\n",
       "      <td>0.0</td>\n",
       "      <td>12.2</td>\n",
       "      <td>-2.2</td>\n",
       "      <td>0.0</td>\n",
       "      <td>0</td>\n",
       "      <td>0.4</td>\n",
       "      <td>2.6</td>\n",
       "      <td>34.6</td>\n",
       "      <td>61.6</td>\n",
       "      <td>1</td>\n",
       "    </tr>\n",
       "    <tr>\n",
       "      <th>4</th>\n",
       "      <td>75</td>\n",
       "      <td>0</td>\n",
       "      <td>190</td>\n",
       "      <td>80</td>\n",
       "      <td>88</td>\n",
       "      <td>181</td>\n",
       "      <td>360</td>\n",
       "      <td>177</td>\n",
       "      <td>103</td>\n",
       "      <td>-16</td>\n",
       "      <td>...</td>\n",
       "      <td>0.0</td>\n",
       "      <td>13.1</td>\n",
       "      <td>-3.6</td>\n",
       "      <td>0.0</td>\n",
       "      <td>0</td>\n",
       "      <td>-0.1</td>\n",
       "      <td>3.9</td>\n",
       "      <td>25.4</td>\n",
       "      <td>62.8</td>\n",
       "      <td>7</td>\n",
       "    </tr>\n",
       "    <tr>\n",
       "      <th>...</th>\n",
       "      <td>...</td>\n",
       "      <td>...</td>\n",
       "      <td>...</td>\n",
       "      <td>...</td>\n",
       "      <td>...</td>\n",
       "      <td>...</td>\n",
       "      <td>...</td>\n",
       "      <td>...</td>\n",
       "      <td>...</td>\n",
       "      <td>...</td>\n",
       "      <td>...</td>\n",
       "      <td>...</td>\n",
       "      <td>...</td>\n",
       "      <td>...</td>\n",
       "      <td>...</td>\n",
       "      <td>...</td>\n",
       "      <td>...</td>\n",
       "      <td>...</td>\n",
       "      <td>...</td>\n",
       "      <td>...</td>\n",
       "      <td>...</td>\n",
       "    </tr>\n",
       "    <tr>\n",
       "      <th>447</th>\n",
       "      <td>53</td>\n",
       "      <td>1</td>\n",
       "      <td>160</td>\n",
       "      <td>70</td>\n",
       "      <td>80</td>\n",
       "      <td>199</td>\n",
       "      <td>382</td>\n",
       "      <td>154</td>\n",
       "      <td>117</td>\n",
       "      <td>-37</td>\n",
       "      <td>...</td>\n",
       "      <td>0.0</td>\n",
       "      <td>4.3</td>\n",
       "      <td>-5.0</td>\n",
       "      <td>0.0</td>\n",
       "      <td>0</td>\n",
       "      <td>0.7</td>\n",
       "      <td>0.6</td>\n",
       "      <td>-4.4</td>\n",
       "      <td>-0.5</td>\n",
       "      <td>1</td>\n",
       "    </tr>\n",
       "    <tr>\n",
       "      <th>448</th>\n",
       "      <td>37</td>\n",
       "      <td>0</td>\n",
       "      <td>190</td>\n",
       "      <td>85</td>\n",
       "      <td>100</td>\n",
       "      <td>137</td>\n",
       "      <td>361</td>\n",
       "      <td>201</td>\n",
       "      <td>73</td>\n",
       "      <td>86</td>\n",
       "      <td>...</td>\n",
       "      <td>0.0</td>\n",
       "      <td>15.6</td>\n",
       "      <td>-1.6</td>\n",
       "      <td>0.0</td>\n",
       "      <td>0</td>\n",
       "      <td>0.4</td>\n",
       "      <td>2.4</td>\n",
       "      <td>38.0</td>\n",
       "      <td>62.4</td>\n",
       "      <td>10</td>\n",
       "    </tr>\n",
       "    <tr>\n",
       "      <th>449</th>\n",
       "      <td>36</td>\n",
       "      <td>0</td>\n",
       "      <td>166</td>\n",
       "      <td>68</td>\n",
       "      <td>108</td>\n",
       "      <td>176</td>\n",
       "      <td>365</td>\n",
       "      <td>194</td>\n",
       "      <td>116</td>\n",
       "      <td>-85</td>\n",
       "      <td>...</td>\n",
       "      <td>0.0</td>\n",
       "      <td>16.3</td>\n",
       "      <td>-28.6</td>\n",
       "      <td>0.0</td>\n",
       "      <td>0</td>\n",
       "      <td>1.5</td>\n",
       "      <td>1.0</td>\n",
       "      <td>-44.2</td>\n",
       "      <td>-33.2</td>\n",
       "      <td>2</td>\n",
       "    </tr>\n",
       "    <tr>\n",
       "      <th>450</th>\n",
       "      <td>32</td>\n",
       "      <td>1</td>\n",
       "      <td>155</td>\n",
       "      <td>55</td>\n",
       "      <td>93</td>\n",
       "      <td>106</td>\n",
       "      <td>386</td>\n",
       "      <td>218</td>\n",
       "      <td>63</td>\n",
       "      <td>54</td>\n",
       "      <td>...</td>\n",
       "      <td>-0.4</td>\n",
       "      <td>12.0</td>\n",
       "      <td>-0.7</td>\n",
       "      <td>0.0</td>\n",
       "      <td>0</td>\n",
       "      <td>0.5</td>\n",
       "      <td>2.4</td>\n",
       "      <td>25.0</td>\n",
       "      <td>46.6</td>\n",
       "      <td>1</td>\n",
       "    </tr>\n",
       "    <tr>\n",
       "      <th>451</th>\n",
       "      <td>78</td>\n",
       "      <td>1</td>\n",
       "      <td>160</td>\n",
       "      <td>70</td>\n",
       "      <td>79</td>\n",
       "      <td>127</td>\n",
       "      <td>364</td>\n",
       "      <td>138</td>\n",
       "      <td>78</td>\n",
       "      <td>28</td>\n",
       "      <td>...</td>\n",
       "      <td>0.0</td>\n",
       "      <td>10.4</td>\n",
       "      <td>-1.8</td>\n",
       "      <td>0.0</td>\n",
       "      <td>0</td>\n",
       "      <td>0.5</td>\n",
       "      <td>1.6</td>\n",
       "      <td>21.3</td>\n",
       "      <td>32.8</td>\n",
       "      <td>1</td>\n",
       "    </tr>\n",
       "  </tbody>\n",
       "</table>\n",
       "<p>452 rows × 280 columns</p>\n",
       "</div>"
      ],
      "text/plain": [
       "     age  sex  height  weight  qrs_duration  p-r_interval  q-t_interval  \\\n",
       "0     75    0     190      80            91           193           371   \n",
       "1     56    1     165      64            81           174           401   \n",
       "2     54    0     172      95           138           163           386   \n",
       "3     55    0     175      94           100           202           380   \n",
       "4     75    0     190      80            88           181           360   \n",
       "..   ...  ...     ...     ...           ...           ...           ...   \n",
       "447   53    1     160      70            80           199           382   \n",
       "448   37    0     190      85           100           137           361   \n",
       "449   36    0     166      68           108           176           365   \n",
       "450   32    1     155      55            93           106           386   \n",
       "451   78    1     160      70            79           127           364   \n",
       "\n",
       "     t_interval  p_interval  qrs  ...   KY    KZ    LA   LB  LC   LD   LE  \\\n",
       "0           174         121  -16  ...  0.0   9.0  -0.9  0.0   0  0.9  2.9   \n",
       "1           149          39   25  ...  0.0   8.5   0.0  0.0   0  0.2  2.1   \n",
       "2           185         102   96  ...  0.0   9.5  -2.4  0.0   0  0.3  3.4   \n",
       "3           179         143   28  ...  0.0  12.2  -2.2  0.0   0  0.4  2.6   \n",
       "4           177         103  -16  ...  0.0  13.1  -3.6  0.0   0 -0.1  3.9   \n",
       "..          ...         ...  ...  ...  ...   ...   ...  ...  ..  ...  ...   \n",
       "447         154         117  -37  ...  0.0   4.3  -5.0  0.0   0  0.7  0.6   \n",
       "448         201          73   86  ...  0.0  15.6  -1.6  0.0   0  0.4  2.4   \n",
       "449         194         116  -85  ...  0.0  16.3 -28.6  0.0   0  1.5  1.0   \n",
       "450         218          63   54  ... -0.4  12.0  -0.7  0.0   0  0.5  2.4   \n",
       "451         138          78   28  ...  0.0  10.4  -1.8  0.0   0  0.5  1.6   \n",
       "\n",
       "       LF    LG  diagnosis  \n",
       "0    23.3  49.4          8  \n",
       "1    20.4  38.8          6  \n",
       "2    12.3  49.0         10  \n",
       "3    34.6  61.6          1  \n",
       "4    25.4  62.8          7  \n",
       "..    ...   ...        ...  \n",
       "447  -4.4  -0.5          1  \n",
       "448  38.0  62.4         10  \n",
       "449 -44.2 -33.2          2  \n",
       "450  25.0  46.6          1  \n",
       "451  21.3  32.8          1  \n",
       "\n",
       "[452 rows x 280 columns]"
      ]
     },
     "execution_count": 74,
     "metadata": {},
     "output_type": "execute_result"
    }
   ],
   "source": [
    "df"
   ]
  },
  {
   "cell_type": "markdown",
   "id": "7730ff16",
   "metadata": {},
   "source": [
    "value_counts() function returns object containing counts of unique values."
   ]
  },
  {
   "cell_type": "code",
   "execution_count": 75,
   "id": "674bf060",
   "metadata": {},
   "outputs": [
    {
     "data": {
      "text/plain": [
       "1     245\n",
       "10     50\n",
       "2      44\n",
       "6      25\n",
       "16     22\n",
       "3      15\n",
       "4      15\n",
       "5      13\n",
       "9       9\n",
       "15      5\n",
       "14      4\n",
       "7       3\n",
       "8       2\n",
       "Name: diagnosis, dtype: int64"
      ]
     },
     "execution_count": 75,
     "metadata": {},
     "output_type": "execute_result"
    }
   ],
   "source": [
    "df.diagnosis.value_counts()"
   ]
  },
  {
   "cell_type": "markdown",
   "id": "4c20d67d",
   "metadata": {},
   "source": [
    "#check how many occurences of non-normal arrythmia exists"
   ]
  },
  {
   "cell_type": "code",
   "execution_count": 76,
   "id": "f76b5cb7",
   "metadata": {},
   "outputs": [
    {
     "data": {
      "text/plain": [
       "207"
      ]
     },
     "execution_count": 76,
     "metadata": {},
     "output_type": "execute_result"
    }
   ],
   "source": [
    "sum(df['diagnosis']!=1)"
   ]
  },
  {
   "cell_type": "markdown",
   "id": "70961f6e",
   "metadata": {},
   "source": [
    "There are 245 occurences of normal arrythmia and 207 occurences of non-normal arrythmia. As only patients with non-normal arrythmia are subjected to further examination (they are in risk of heart failure) it doesn't make sense to predict what class of arrythmia the patient has.  "
   ]
  },
  {
   "cell_type": "code",
   "execution_count": 77,
   "id": "97e46419",
   "metadata": {},
   "outputs": [
    {
     "data": {
      "text/plain": [
       "Normal    245\n",
       "Risk      207\n",
       "Name: diagnosis, dtype: int64"
      ]
     },
     "execution_count": 77,
     "metadata": {},
     "output_type": "execute_result"
    }
   ],
   "source": [
    "df1 = df.copy() #create a copy of the original dataset\n",
    "\n",
    "#setting prediction values to \"Normal\" or \"Risk\" based on column scores values\n",
    "df1.loc[df1[\"diagnosis\"] == 1,\"diagnosis\"] = \"Normal\"         #class 1 is normal arrythmia\n",
    "df1.loc[df1[\"diagnosis\"] != \"Normal\",\"diagnosis\"] = \"Risk\"    #other classes are risk classes\n",
    "df1.diagnosis.value_counts()"
   ]
  },
  {
   "cell_type": "markdown",
   "id": "3d2b5c4c",
   "metadata": {},
   "source": [
    "Checking features to see if there are any uncomon values:"
   ]
  },
  {
   "cell_type": "code",
   "execution_count": 78,
   "id": "524a01e7",
   "metadata": {},
   "outputs": [
    {
     "name": "stdout",
     "output_type": "stream",
     "text": [
      "Histogram for age:\n"
     ]
    },
    {
     "data": {
      "image/png": "[encoded data removed]",
      "text/plain": [
       "<Figure size 432x288 with 1 Axes>"
      ]
     },
     "metadata": {
      "needs_background": "light"
     },
     "output_type": "display_data"
    },
    {
     "name": "stdout",
     "output_type": "stream",
     "text": [
      "Histogram for sex:\n"
     ]
    },
    {
     "data": {
      "image/png": "[encoded data removed]",
      "text/plain": [
       "<Figure size 432x288 with 1 Axes>"
      ]
     },
     "metadata": {
      "needs_background": "light"
     },
     "output_type": "display_data"
    },
    {
     "name": "stdout",
     "output_type": "stream",
     "text": [
      "Histogram for height:\n"
     ]
    },
    {
     "data": {
      "image/png": "[encoded data removed]",
      "text/plain": [
       "<Figure size 432x288 with 1 Axes>"
      ]
     },
     "metadata": {
      "needs_background": "light"
     },
     "output_type": "display_data"
    },
    {
     "name": "stdout",
     "output_type": "stream",
     "text": [
      "Histogram for weight:\n"
     ]
    },
    {
     "data": {
      "image/png": "[encoded data removed]",
      "text/plain": [
       "<Figure size 432x288 with 1 Axes>"
      ]
     },
     "metadata": {
      "needs_background": "light"
     },
     "output_type": "display_data"
    },
    {
     "name": "stdout",
     "output_type": "stream",
     "text": [
      "Histogram for heart_rate:\n"
     ]
    },
    {
     "data": {
      "image/png": "[encoded data removed]",
      "text/plain": [
       "<Figure size 432x288 with 1 Axes>"
      ]
     },
     "metadata": {
      "needs_background": "light"
     },
     "output_type": "display_data"
    }
   ],
   "source": [
    "familiar_features = ['age','sex','height','weight','heart_rate'] #list of well known features with missing data\n",
    "\n",
    "#function that creates an histogram for a feature\n",
    "def print_hist(df,feature,nbins):\n",
    "    print(\"Histogram for \" + feature + \":\")\n",
    "    column = df[feature]\n",
    "    plt.hist(column,bins=nbins)\n",
    "    plt.show()\n",
    "\n",
    "for feature in familiar_features: print_hist(df1,feature,30)"
   ]
  },
  {
   "cell_type": "code",
   "execution_count": 79,
   "id": "b9558197",
   "metadata": {},
   "outputs": [
    {
     "data": {
      "text/plain": [
       "0     1\n",
       "1     2\n",
       "3     1\n",
       "7     3\n",
       "8     2\n",
       "     ..\n",
       "78    2\n",
       "79    1\n",
       "80    2\n",
       "81    1\n",
       "83    1\n",
       "Name: age, Length: 77, dtype: int64"
      ]
     },
     "execution_count": 79,
     "metadata": {},
     "output_type": "execute_result"
    }
   ],
   "source": [
    "df1['age'].value_counts().sort_index() #get different values and count occurences for each value"
   ]
  },
  {
   "cell_type": "code",
   "execution_count": 80,
   "id": "0449afe3",
   "metadata": {},
   "outputs": [
    {
     "data": {
      "text/html": [
       "<div>\n",
       "<style scoped>\n",
       "    .dataframe tbody tr th:only-of-type {\n",
       "        vertical-align: middle;\n",
       "    }\n",
       "\n",
       "    .dataframe tbody tr th {\n",
       "        vertical-align: top;\n",
       "    }\n",
       "\n",
       "    .dataframe thead th {\n",
       "        text-align: right;\n",
       "    }\n",
       "</style>\n",
       "<table border=\"1\" class=\"dataframe\">\n",
       "  <thead>\n",
       "    <tr style=\"text-align: right;\">\n",
       "      <th></th>\n",
       "      <th>age</th>\n",
       "      <th>sex</th>\n",
       "      <th>height</th>\n",
       "      <th>weight</th>\n",
       "      <th>qrs_duration</th>\n",
       "      <th>p-r_interval</th>\n",
       "      <th>q-t_interval</th>\n",
       "      <th>t_interval</th>\n",
       "      <th>p_interval</th>\n",
       "      <th>qrs</th>\n",
       "      <th>...</th>\n",
       "      <th>KY</th>\n",
       "      <th>KZ</th>\n",
       "      <th>LA</th>\n",
       "      <th>LB</th>\n",
       "      <th>LC</th>\n",
       "      <th>LD</th>\n",
       "      <th>LE</th>\n",
       "      <th>LF</th>\n",
       "      <th>LG</th>\n",
       "      <th>diagnosis</th>\n",
       "    </tr>\n",
       "  </thead>\n",
       "  <tbody>\n",
       "    <tr>\n",
       "      <th>316</th>\n",
       "      <td>0</td>\n",
       "      <td>0</td>\n",
       "      <td>608</td>\n",
       "      <td>10</td>\n",
       "      <td>83</td>\n",
       "      <td>126</td>\n",
       "      <td>232</td>\n",
       "      <td>128</td>\n",
       "      <td>60</td>\n",
       "      <td>125</td>\n",
       "      <td>...</td>\n",
       "      <td>-0.7</td>\n",
       "      <td>4.5</td>\n",
       "      <td>-5.5</td>\n",
       "      <td>0.0</td>\n",
       "      <td>0</td>\n",
       "      <td>0.5</td>\n",
       "      <td>2.5</td>\n",
       "      <td>-11.8</td>\n",
       "      <td>1.7</td>\n",
       "      <td>Risk</td>\n",
       "    </tr>\n",
       "  </tbody>\n",
       "</table>\n",
       "<p>1 rows × 280 columns</p>\n",
       "</div>"
      ],
      "text/plain": [
       "     age  sex  height  weight  qrs_duration  p-r_interval  q-t_interval  \\\n",
       "316    0    0     608      10            83           126           232   \n",
       "\n",
       "     t_interval  p_interval  qrs  ...   KY   KZ   LA   LB  LC   LD   LE    LF  \\\n",
       "316         128          60  125  ... -0.7  4.5 -5.5  0.0   0  0.5  2.5 -11.8   \n",
       "\n",
       "      LG  diagnosis  \n",
       "316  1.7       Risk  \n",
       "\n",
       "[1 rows x 280 columns]"
      ]
     },
     "execution_count": 80,
     "metadata": {},
     "output_type": "execute_result"
    }
   ],
   "source": [
    "df1[df1['age']==0] #select occurence with Age=0"
   ]
  },
  {
   "cell_type": "markdown",
   "id": "5ac68c91",
   "metadata": {},
   "source": [
    "The presence of an individual with Age = 0 and Weight = 10 kgs suggests that height = 608 cm is actually 61 cm. correcting height for this instance:"
   ]
  },
  {
   "cell_type": "code",
   "execution_count": 81,
   "id": "fca16312",
   "metadata": {},
   "outputs": [],
   "source": [
    "df1.loc[df1[\"age\"] == 0, \"height\"] = 61"
   ]
  },
  {
   "cell_type": "code",
   "execution_count": 82,
   "id": "8fcafb91",
   "metadata": {},
   "outputs": [
    {
     "data": {
      "text/html": [
       "<div>\n",
       "<style scoped>\n",
       "    .dataframe tbody tr th:only-of-type {\n",
       "        vertical-align: middle;\n",
       "    }\n",
       "\n",
       "    .dataframe tbody tr th {\n",
       "        vertical-align: top;\n",
       "    }\n",
       "\n",
       "    .dataframe thead th {\n",
       "        text-align: right;\n",
       "    }\n",
       "</style>\n",
       "<table border=\"1\" class=\"dataframe\">\n",
       "  <thead>\n",
       "    <tr style=\"text-align: right;\">\n",
       "      <th></th>\n",
       "      <th>age</th>\n",
       "      <th>sex</th>\n",
       "      <th>height</th>\n",
       "      <th>weight</th>\n",
       "      <th>qrs_duration</th>\n",
       "      <th>p-r_interval</th>\n",
       "      <th>q-t_interval</th>\n",
       "      <th>t_interval</th>\n",
       "      <th>p_interval</th>\n",
       "      <th>qrs</th>\n",
       "      <th>...</th>\n",
       "      <th>KY</th>\n",
       "      <th>KZ</th>\n",
       "      <th>LA</th>\n",
       "      <th>LB</th>\n",
       "      <th>LC</th>\n",
       "      <th>LD</th>\n",
       "      <th>LE</th>\n",
       "      <th>LF</th>\n",
       "      <th>LG</th>\n",
       "      <th>diagnosis</th>\n",
       "    </tr>\n",
       "  </thead>\n",
       "  <tbody>\n",
       "    <tr>\n",
       "      <th>316</th>\n",
       "      <td>0</td>\n",
       "      <td>0</td>\n",
       "      <td>61</td>\n",
       "      <td>10</td>\n",
       "      <td>83</td>\n",
       "      <td>126</td>\n",
       "      <td>232</td>\n",
       "      <td>128</td>\n",
       "      <td>60</td>\n",
       "      <td>125</td>\n",
       "      <td>...</td>\n",
       "      <td>-0.7</td>\n",
       "      <td>4.5</td>\n",
       "      <td>-5.5</td>\n",
       "      <td>0.0</td>\n",
       "      <td>0</td>\n",
       "      <td>0.5</td>\n",
       "      <td>2.5</td>\n",
       "      <td>-11.8</td>\n",
       "      <td>1.7</td>\n",
       "      <td>Risk</td>\n",
       "    </tr>\n",
       "  </tbody>\n",
       "</table>\n",
       "<p>1 rows × 280 columns</p>\n",
       "</div>"
      ],
      "text/plain": [
       "     age  sex  height  weight  qrs_duration  p-r_interval  q-t_interval  \\\n",
       "316    0    0      61      10            83           126           232   \n",
       "\n",
       "     t_interval  p_interval  qrs  ...   KY   KZ   LA   LB  LC   LD   LE    LF  \\\n",
       "316         128          60  125  ... -0.7  4.5 -5.5  0.0   0  0.5  2.5 -11.8   \n",
       "\n",
       "      LG  diagnosis  \n",
       "316  1.7       Risk  \n",
       "\n",
       "[1 rows x 280 columns]"
      ]
     },
     "execution_count": 82,
     "metadata": {},
     "output_type": "execute_result"
    }
   ],
   "source": [
    "df1[df1['age']==0]"
   ]
  },
  {
   "cell_type": "markdown",
   "id": "e6835b8d",
   "metadata": {},
   "source": [
    "Height has been corrected for that instance."
   ]
  },
  {
   "cell_type": "code",
   "execution_count": 83,
   "id": "5b4ad868",
   "metadata": {},
   "outputs": [
    {
     "data": {
      "text/plain": [
       "61      1\n",
       "105     1\n",
       "110     1\n",
       "119     1\n",
       "120     2\n",
       "124     1\n",
       "127     1\n",
       "130     2\n",
       "132     1\n",
       "133     1\n",
       "138     1\n",
       "140     1\n",
       "146     1\n",
       "148     1\n",
       "149     1\n",
       "150     9\n",
       "152     1\n",
       "153     5\n",
       "154     4\n",
       "155    23\n",
       "156    19\n",
       "157    10\n",
       "158     9\n",
       "159     6\n",
       "160    81\n",
       "161     5\n",
       "162    15\n",
       "163    16\n",
       "164     9\n",
       "165    46\n",
       "166     9\n",
       "167     8\n",
       "168    15\n",
       "169     7\n",
       "170    40\n",
       "171     9\n",
       "172    14\n",
       "173     7\n",
       "174     4\n",
       "175    21\n",
       "176    10\n",
       "177     4\n",
       "178     9\n",
       "179     1\n",
       "180     4\n",
       "181     1\n",
       "182     2\n",
       "184     1\n",
       "185     3\n",
       "186     3\n",
       "188     1\n",
       "190     3\n",
       "780     1\n",
       "Name: height, dtype: int64"
      ]
     },
     "execution_count": 83,
     "metadata": {},
     "output_type": "execute_result"
    }
   ],
   "source": [
    "df1['height'].value_counts().sort_index()"
   ]
  },
  {
   "cell_type": "code",
   "execution_count": 84,
   "id": "6c18791f",
   "metadata": {},
   "outputs": [
    {
     "data": {
      "text/html": [
       "<div>\n",
       "<style scoped>\n",
       "    .dataframe tbody tr th:only-of-type {\n",
       "        vertical-align: middle;\n",
       "    }\n",
       "\n",
       "    .dataframe tbody tr th {\n",
       "        vertical-align: top;\n",
       "    }\n",
       "\n",
       "    .dataframe thead th {\n",
       "        text-align: right;\n",
       "    }\n",
       "</style>\n",
       "<table border=\"1\" class=\"dataframe\">\n",
       "  <thead>\n",
       "    <tr style=\"text-align: right;\">\n",
       "      <th></th>\n",
       "      <th>age</th>\n",
       "      <th>sex</th>\n",
       "      <th>height</th>\n",
       "      <th>weight</th>\n",
       "      <th>qrs_duration</th>\n",
       "      <th>p-r_interval</th>\n",
       "      <th>q-t_interval</th>\n",
       "      <th>t_interval</th>\n",
       "      <th>p_interval</th>\n",
       "      <th>qrs</th>\n",
       "      <th>...</th>\n",
       "      <th>KY</th>\n",
       "      <th>KZ</th>\n",
       "      <th>LA</th>\n",
       "      <th>LB</th>\n",
       "      <th>LC</th>\n",
       "      <th>LD</th>\n",
       "      <th>LE</th>\n",
       "      <th>LF</th>\n",
       "      <th>LG</th>\n",
       "      <th>diagnosis</th>\n",
       "    </tr>\n",
       "  </thead>\n",
       "  <tbody>\n",
       "    <tr>\n",
       "      <th>141</th>\n",
       "      <td>1</td>\n",
       "      <td>1</td>\n",
       "      <td>780</td>\n",
       "      <td>6</td>\n",
       "      <td>85</td>\n",
       "      <td>165</td>\n",
       "      <td>237</td>\n",
       "      <td>150</td>\n",
       "      <td>106</td>\n",
       "      <td>88</td>\n",
       "      <td>...</td>\n",
       "      <td>0.0</td>\n",
       "      <td>5.0</td>\n",
       "      <td>-4.6</td>\n",
       "      <td>0.0</td>\n",
       "      <td>0</td>\n",
       "      <td>1.3</td>\n",
       "      <td>0.7</td>\n",
       "      <td>2.7</td>\n",
       "      <td>5.5</td>\n",
       "      <td>Risk</td>\n",
       "    </tr>\n",
       "  </tbody>\n",
       "</table>\n",
       "<p>1 rows × 280 columns</p>\n",
       "</div>"
      ],
      "text/plain": [
       "     age  sex  height  weight  qrs_duration  p-r_interval  q-t_interval  \\\n",
       "141    1    1     780       6            85           165           237   \n",
       "\n",
       "     t_interval  p_interval  qrs  ...   KY   KZ   LA   LB  LC   LD   LE   LF  \\\n",
       "141         150         106   88  ...  0.0  5.0 -4.6  0.0   0  1.3  0.7  2.7   \n",
       "\n",
       "      LG  diagnosis  \n",
       "141  5.5       Risk  \n",
       "\n",
       "[1 rows x 280 columns]"
      ]
     },
     "execution_count": 84,
     "metadata": {},
     "output_type": "execute_result"
    }
   ],
   "source": [
    "df1[df1['height']==780] #select occurence with Height=780"
   ]
  },
  {
   "cell_type": "markdown",
   "id": "61a77ff7",
   "metadata": {},
   "source": [
    "The presence of another baby with incorrect height (780 cm) suggests another typo to correct:"
   ]
  },
  {
   "cell_type": "code",
   "execution_count": 85,
   "id": "4a24897d",
   "metadata": {},
   "outputs": [],
   "source": [
    "df1.loc[df1[\"height\"] == 780, \"height\"] = 78"
   ]
  },
  {
   "cell_type": "code",
   "execution_count": 86,
   "id": "25e6469f",
   "metadata": {},
   "outputs": [
    {
     "data": {
      "text/html": [
       "<div>\n",
       "<style scoped>\n",
       "    .dataframe tbody tr th:only-of-type {\n",
       "        vertical-align: middle;\n",
       "    }\n",
       "\n",
       "    .dataframe tbody tr th {\n",
       "        vertical-align: top;\n",
       "    }\n",
       "\n",
       "    .dataframe thead th {\n",
       "        text-align: right;\n",
       "    }\n",
       "</style>\n",
       "<table border=\"1\" class=\"dataframe\">\n",
       "  <thead>\n",
       "    <tr style=\"text-align: right;\">\n",
       "      <th></th>\n",
       "      <th>age</th>\n",
       "      <th>sex</th>\n",
       "      <th>height</th>\n",
       "      <th>weight</th>\n",
       "      <th>qrs_duration</th>\n",
       "      <th>p-r_interval</th>\n",
       "      <th>q-t_interval</th>\n",
       "      <th>t_interval</th>\n",
       "      <th>p_interval</th>\n",
       "      <th>qrs</th>\n",
       "      <th>...</th>\n",
       "      <th>KY</th>\n",
       "      <th>KZ</th>\n",
       "      <th>LA</th>\n",
       "      <th>LB</th>\n",
       "      <th>LC</th>\n",
       "      <th>LD</th>\n",
       "      <th>LE</th>\n",
       "      <th>LF</th>\n",
       "      <th>LG</th>\n",
       "      <th>diagnosis</th>\n",
       "    </tr>\n",
       "  </thead>\n",
       "  <tbody>\n",
       "    <tr>\n",
       "      <th>141</th>\n",
       "      <td>1</td>\n",
       "      <td>1</td>\n",
       "      <td>78</td>\n",
       "      <td>6</td>\n",
       "      <td>85</td>\n",
       "      <td>165</td>\n",
       "      <td>237</td>\n",
       "      <td>150</td>\n",
       "      <td>106</td>\n",
       "      <td>88</td>\n",
       "      <td>...</td>\n",
       "      <td>0.0</td>\n",
       "      <td>5.0</td>\n",
       "      <td>-4.6</td>\n",
       "      <td>0.0</td>\n",
       "      <td>0</td>\n",
       "      <td>1.3</td>\n",
       "      <td>0.7</td>\n",
       "      <td>2.7</td>\n",
       "      <td>5.5</td>\n",
       "      <td>Risk</td>\n",
       "    </tr>\n",
       "  </tbody>\n",
       "</table>\n",
       "<p>1 rows × 280 columns</p>\n",
       "</div>"
      ],
      "text/plain": [
       "     age  sex  height  weight  qrs_duration  p-r_interval  q-t_interval  \\\n",
       "141    1    1      78       6            85           165           237   \n",
       "\n",
       "     t_interval  p_interval  qrs  ...   KY   KZ   LA   LB  LC   LD   LE   LF  \\\n",
       "141         150         106   88  ...  0.0  5.0 -4.6  0.0   0  1.3  0.7  2.7   \n",
       "\n",
       "      LG  diagnosis  \n",
       "141  5.5       Risk  \n",
       "\n",
       "[1 rows x 280 columns]"
      ]
     },
     "execution_count": 86,
     "metadata": {},
     "output_type": "execute_result"
    }
   ],
   "source": [
    "df1[df1['height']==78]"
   ]
  },
  {
   "cell_type": "markdown",
   "id": "97f149aa",
   "metadata": {},
   "source": [
    "Height has been corrected for that instance."
   ]
  },
  {
   "cell_type": "markdown",
   "id": "906bb849",
   "metadata": {},
   "source": [
    "Looking for features with one-level cardinality (non-informative features):"
   ]
  },
  {
   "cell_type": "code",
   "execution_count": 87,
   "id": "1c1d89d7",
   "metadata": {},
   "outputs": [
    {
     "data": {
      "text/plain": [
       "[\"S'_wave\",\n",
       " 'CB',\n",
       " 'CD',\n",
       " 'CS',\n",
       " 'EV',\n",
       " 'EY',\n",
       " 'FF',\n",
       " 'FH',\n",
       " 'FJ',\n",
       " 'FL',\n",
       " 'FS',\n",
       " 'FZ',\n",
       " 'GA',\n",
       " 'GH',\n",
       " 'IB',\n",
       " 'KP',\n",
       " 'LC']"
      ]
     },
     "execution_count": 87,
     "metadata": {},
     "output_type": "execute_result"
    }
   ],
   "source": [
    "one_levels = [] #create an empty list to append features with one level\n",
    "\n",
    "ncol = df1.shape[1] # store number of columns\n",
    "\n",
    "#for loop to add features names with one level to \"one_levels\" list \n",
    "\n",
    "for index in range(ncol):\n",
    "    if len(df1.iloc[:,index].unique()) == 1:\n",
    "        one_levels.append(df1.columns[index])\n",
    "\n",
    "one_levels"
   ]
  },
  {
   "cell_type": "markdown",
   "id": "99a9389a",
   "metadata": {},
   "source": [
    "All those features have only one level and therefore should be eliminated once they don't add knowledge to the dataset."
   ]
  },
  {
   "cell_type": "code",
   "execution_count": 88,
   "id": "48c6d416",
   "metadata": {},
   "outputs": [],
   "source": [
    "df2 = df1.copy()\n",
    "df2 = df1.drop(columns=one_levels) # delete one_level columns "
   ]
  },
  {
   "cell_type": "markdown",
   "id": "60a2db97",
   "metadata": {},
   "source": [
    "Checking for missing values:"
   ]
  },
  {
   "cell_type": "code",
   "execution_count": 89,
   "id": "0bc31ffc",
   "metadata": {},
   "outputs": [
    {
     "data": {
      "text/plain": [
       "408"
      ]
     },
     "execution_count": 89,
     "metadata": {},
     "output_type": "execute_result"
    }
   ],
   "source": [
    "df2.isnull().sum().sum() #total number of missing values is 408"
   ]
  },
  {
   "cell_type": "code",
   "execution_count": 90,
   "id": "68ffcf81",
   "metadata": {},
   "outputs": [
    {
     "data": {
      "text/html": [
       "<div>\n",
       "<style scoped>\n",
       "    .dataframe tbody tr th:only-of-type {\n",
       "        vertical-align: middle;\n",
       "    }\n",
       "\n",
       "    .dataframe tbody tr th {\n",
       "        vertical-align: top;\n",
       "    }\n",
       "\n",
       "    .dataframe thead th {\n",
       "        text-align: right;\n",
       "    }\n",
       "</style>\n",
       "<table border=\"1\" class=\"dataframe\">\n",
       "  <thead>\n",
       "    <tr style=\"text-align: right;\">\n",
       "      <th></th>\n",
       "      <th>0</th>\n",
       "    </tr>\n",
       "  </thead>\n",
       "  <tbody>\n",
       "    <tr>\n",
       "      <th>T</th>\n",
       "      <td>8</td>\n",
       "    </tr>\n",
       "    <tr>\n",
       "      <th>P</th>\n",
       "      <td>22</td>\n",
       "    </tr>\n",
       "    <tr>\n",
       "      <th>QRST</th>\n",
       "      <td>1</td>\n",
       "    </tr>\n",
       "    <tr>\n",
       "      <th>J</th>\n",
       "      <td>376</td>\n",
       "    </tr>\n",
       "    <tr>\n",
       "      <th>heart_rate</th>\n",
       "      <td>1</td>\n",
       "    </tr>\n",
       "  </tbody>\n",
       "</table>\n",
       "</div>"
      ],
      "text/plain": [
       "              0\n",
       "T             8\n",
       "P            22\n",
       "QRST          1\n",
       "J           376\n",
       "heart_rate    1"
      ]
     },
     "execution_count": 90,
     "metadata": {},
     "output_type": "execute_result"
    }
   ],
   "source": [
    "#print columns with missing values and its occurences\n",
    "missing = df2.isnull().sum()\n",
    "missing_df = pd.DataFrame(missing)\n",
    "missing_df[missing_df[0]!=0]"
   ]
  },
  {
   "cell_type": "markdown",
   "id": "47ec4b0a",
   "metadata": {},
   "source": [
    "From the output above, there are few features with missing values. Feature J has 376 missing values. This represents 83% of the occurences in the dataset and for that reason we will delete this feature from the dataset. The reason behind this is the rule of removing features with more than 60% of missing data as it leads to less accurate results."
   ]
  },
  {
   "cell_type": "code",
   "execution_count": 91,
   "id": "2a5909ce",
   "metadata": {
    "scrolled": true
   },
   "outputs": [
    {
     "data": {
      "text/html": [
       "<div>\n",
       "<style scoped>\n",
       "    .dataframe tbody tr th:only-of-type {\n",
       "        vertical-align: middle;\n",
       "    }\n",
       "\n",
       "    .dataframe tbody tr th {\n",
       "        vertical-align: top;\n",
       "    }\n",
       "\n",
       "    .dataframe thead th {\n",
       "        text-align: right;\n",
       "    }\n",
       "</style>\n",
       "<table border=\"1\" class=\"dataframe\">\n",
       "  <thead>\n",
       "    <tr style=\"text-align: right;\">\n",
       "      <th></th>\n",
       "      <th>age</th>\n",
       "      <th>sex</th>\n",
       "      <th>height</th>\n",
       "      <th>weight</th>\n",
       "      <th>qrs_duration</th>\n",
       "      <th>p-r_interval</th>\n",
       "      <th>q-t_interval</th>\n",
       "      <th>t_interval</th>\n",
       "      <th>p_interval</th>\n",
       "      <th>qrs</th>\n",
       "      <th>...</th>\n",
       "      <th>KV</th>\n",
       "      <th>KY</th>\n",
       "      <th>KZ</th>\n",
       "      <th>LA</th>\n",
       "      <th>LB</th>\n",
       "      <th>LD</th>\n",
       "      <th>LE</th>\n",
       "      <th>LF</th>\n",
       "      <th>LG</th>\n",
       "      <th>diagnosis</th>\n",
       "    </tr>\n",
       "  </thead>\n",
       "  <tbody>\n",
       "    <tr>\n",
       "      <th>0</th>\n",
       "      <td>75</td>\n",
       "      <td>0</td>\n",
       "      <td>190</td>\n",
       "      <td>80</td>\n",
       "      <td>91</td>\n",
       "      <td>193</td>\n",
       "      <td>371</td>\n",
       "      <td>174</td>\n",
       "      <td>121</td>\n",
       "      <td>-16</td>\n",
       "      <td>...</td>\n",
       "      <td>-0.3</td>\n",
       "      <td>0.0</td>\n",
       "      <td>9.0</td>\n",
       "      <td>-0.9</td>\n",
       "      <td>0.0</td>\n",
       "      <td>0.9</td>\n",
       "      <td>2.9</td>\n",
       "      <td>23.3</td>\n",
       "      <td>49.4</td>\n",
       "      <td>Risk</td>\n",
       "    </tr>\n",
       "    <tr>\n",
       "      <th>1</th>\n",
       "      <td>56</td>\n",
       "      <td>1</td>\n",
       "      <td>165</td>\n",
       "      <td>64</td>\n",
       "      <td>81</td>\n",
       "      <td>174</td>\n",
       "      <td>401</td>\n",
       "      <td>149</td>\n",
       "      <td>39</td>\n",
       "      <td>25</td>\n",
       "      <td>...</td>\n",
       "      <td>-0.5</td>\n",
       "      <td>0.0</td>\n",
       "      <td>8.5</td>\n",
       "      <td>0.0</td>\n",
       "      <td>0.0</td>\n",
       "      <td>0.2</td>\n",
       "      <td>2.1</td>\n",
       "      <td>20.4</td>\n",
       "      <td>38.8</td>\n",
       "      <td>Risk</td>\n",
       "    </tr>\n",
       "    <tr>\n",
       "      <th>2</th>\n",
       "      <td>54</td>\n",
       "      <td>0</td>\n",
       "      <td>172</td>\n",
       "      <td>95</td>\n",
       "      <td>138</td>\n",
       "      <td>163</td>\n",
       "      <td>386</td>\n",
       "      <td>185</td>\n",
       "      <td>102</td>\n",
       "      <td>96</td>\n",
       "      <td>...</td>\n",
       "      <td>0.9</td>\n",
       "      <td>0.0</td>\n",
       "      <td>9.5</td>\n",
       "      <td>-2.4</td>\n",
       "      <td>0.0</td>\n",
       "      <td>0.3</td>\n",
       "      <td>3.4</td>\n",
       "      <td>12.3</td>\n",
       "      <td>49.0</td>\n",
       "      <td>Risk</td>\n",
       "    </tr>\n",
       "    <tr>\n",
       "      <th>3</th>\n",
       "      <td>55</td>\n",
       "      <td>0</td>\n",
       "      <td>175</td>\n",
       "      <td>94</td>\n",
       "      <td>100</td>\n",
       "      <td>202</td>\n",
       "      <td>380</td>\n",
       "      <td>179</td>\n",
       "      <td>143</td>\n",
       "      <td>28</td>\n",
       "      <td>...</td>\n",
       "      <td>0.1</td>\n",
       "      <td>0.0</td>\n",
       "      <td>12.2</td>\n",
       "      <td>-2.2</td>\n",
       "      <td>0.0</td>\n",
       "      <td>0.4</td>\n",
       "      <td>2.6</td>\n",
       "      <td>34.6</td>\n",
       "      <td>61.6</td>\n",
       "      <td>Normal</td>\n",
       "    </tr>\n",
       "    <tr>\n",
       "      <th>4</th>\n",
       "      <td>75</td>\n",
       "      <td>0</td>\n",
       "      <td>190</td>\n",
       "      <td>80</td>\n",
       "      <td>88</td>\n",
       "      <td>181</td>\n",
       "      <td>360</td>\n",
       "      <td>177</td>\n",
       "      <td>103</td>\n",
       "      <td>-16</td>\n",
       "      <td>...</td>\n",
       "      <td>-0.4</td>\n",
       "      <td>0.0</td>\n",
       "      <td>13.1</td>\n",
       "      <td>-3.6</td>\n",
       "      <td>0.0</td>\n",
       "      <td>-0.1</td>\n",
       "      <td>3.9</td>\n",
       "      <td>25.4</td>\n",
       "      <td>62.8</td>\n",
       "      <td>Risk</td>\n",
       "    </tr>\n",
       "    <tr>\n",
       "      <th>...</th>\n",
       "      <td>...</td>\n",
       "      <td>...</td>\n",
       "      <td>...</td>\n",
       "      <td>...</td>\n",
       "      <td>...</td>\n",
       "      <td>...</td>\n",
       "      <td>...</td>\n",
       "      <td>...</td>\n",
       "      <td>...</td>\n",
       "      <td>...</td>\n",
       "      <td>...</td>\n",
       "      <td>...</td>\n",
       "      <td>...</td>\n",
       "      <td>...</td>\n",
       "      <td>...</td>\n",
       "      <td>...</td>\n",
       "      <td>...</td>\n",
       "      <td>...</td>\n",
       "      <td>...</td>\n",
       "      <td>...</td>\n",
       "      <td>...</td>\n",
       "    </tr>\n",
       "    <tr>\n",
       "      <th>447</th>\n",
       "      <td>53</td>\n",
       "      <td>1</td>\n",
       "      <td>160</td>\n",
       "      <td>70</td>\n",
       "      <td>80</td>\n",
       "      <td>199</td>\n",
       "      <td>382</td>\n",
       "      <td>154</td>\n",
       "      <td>117</td>\n",
       "      <td>-37</td>\n",
       "      <td>...</td>\n",
       "      <td>0.0</td>\n",
       "      <td>0.0</td>\n",
       "      <td>4.3</td>\n",
       "      <td>-5.0</td>\n",
       "      <td>0.0</td>\n",
       "      <td>0.7</td>\n",
       "      <td>0.6</td>\n",
       "      <td>-4.4</td>\n",
       "      <td>-0.5</td>\n",
       "      <td>Normal</td>\n",
       "    </tr>\n",
       "    <tr>\n",
       "      <th>448</th>\n",
       "      <td>37</td>\n",
       "      <td>0</td>\n",
       "      <td>190</td>\n",
       "      <td>85</td>\n",
       "      <td>100</td>\n",
       "      <td>137</td>\n",
       "      <td>361</td>\n",
       "      <td>201</td>\n",
       "      <td>73</td>\n",
       "      <td>86</td>\n",
       "      <td>...</td>\n",
       "      <td>-0.5</td>\n",
       "      <td>0.0</td>\n",
       "      <td>15.6</td>\n",
       "      <td>-1.6</td>\n",
       "      <td>0.0</td>\n",
       "      <td>0.4</td>\n",
       "      <td>2.4</td>\n",
       "      <td>38.0</td>\n",
       "      <td>62.4</td>\n",
       "      <td>Risk</td>\n",
       "    </tr>\n",
       "    <tr>\n",
       "      <th>449</th>\n",
       "      <td>36</td>\n",
       "      <td>0</td>\n",
       "      <td>166</td>\n",
       "      <td>68</td>\n",
       "      <td>108</td>\n",
       "      <td>176</td>\n",
       "      <td>365</td>\n",
       "      <td>194</td>\n",
       "      <td>116</td>\n",
       "      <td>-85</td>\n",
       "      <td>...</td>\n",
       "      <td>1.2</td>\n",
       "      <td>0.0</td>\n",
       "      <td>16.3</td>\n",
       "      <td>-28.6</td>\n",
       "      <td>0.0</td>\n",
       "      <td>1.5</td>\n",
       "      <td>1.0</td>\n",
       "      <td>-44.2</td>\n",
       "      <td>-33.2</td>\n",
       "      <td>Risk</td>\n",
       "    </tr>\n",
       "    <tr>\n",
       "      <th>450</th>\n",
       "      <td>32</td>\n",
       "      <td>1</td>\n",
       "      <td>155</td>\n",
       "      <td>55</td>\n",
       "      <td>93</td>\n",
       "      <td>106</td>\n",
       "      <td>386</td>\n",
       "      <td>218</td>\n",
       "      <td>63</td>\n",
       "      <td>54</td>\n",
       "      <td>...</td>\n",
       "      <td>0.2</td>\n",
       "      <td>-0.4</td>\n",
       "      <td>12.0</td>\n",
       "      <td>-0.7</td>\n",
       "      <td>0.0</td>\n",
       "      <td>0.5</td>\n",
       "      <td>2.4</td>\n",
       "      <td>25.0</td>\n",
       "      <td>46.6</td>\n",
       "      <td>Normal</td>\n",
       "    </tr>\n",
       "    <tr>\n",
       "      <th>451</th>\n",
       "      <td>78</td>\n",
       "      <td>1</td>\n",
       "      <td>160</td>\n",
       "      <td>70</td>\n",
       "      <td>79</td>\n",
       "      <td>127</td>\n",
       "      <td>364</td>\n",
       "      <td>138</td>\n",
       "      <td>78</td>\n",
       "      <td>28</td>\n",
       "      <td>...</td>\n",
       "      <td>-0.3</td>\n",
       "      <td>0.0</td>\n",
       "      <td>10.4</td>\n",
       "      <td>-1.8</td>\n",
       "      <td>0.0</td>\n",
       "      <td>0.5</td>\n",
       "      <td>1.6</td>\n",
       "      <td>21.3</td>\n",
       "      <td>32.8</td>\n",
       "      <td>Normal</td>\n",
       "    </tr>\n",
       "  </tbody>\n",
       "</table>\n",
       "<p>452 rows × 262 columns</p>\n",
       "</div>"
      ],
      "text/plain": [
       "     age  sex  height  weight  qrs_duration  p-r_interval  q-t_interval  \\\n",
       "0     75    0     190      80            91           193           371   \n",
       "1     56    1     165      64            81           174           401   \n",
       "2     54    0     172      95           138           163           386   \n",
       "3     55    0     175      94           100           202           380   \n",
       "4     75    0     190      80            88           181           360   \n",
       "..   ...  ...     ...     ...           ...           ...           ...   \n",
       "447   53    1     160      70            80           199           382   \n",
       "448   37    0     190      85           100           137           361   \n",
       "449   36    0     166      68           108           176           365   \n",
       "450   32    1     155      55            93           106           386   \n",
       "451   78    1     160      70            79           127           364   \n",
       "\n",
       "     t_interval  p_interval  qrs  ...   KV   KY    KZ    LA   LB   LD   LE  \\\n",
       "0           174         121  -16  ... -0.3  0.0   9.0  -0.9  0.0  0.9  2.9   \n",
       "1           149          39   25  ... -0.5  0.0   8.5   0.0  0.0  0.2  2.1   \n",
       "2           185         102   96  ...  0.9  0.0   9.5  -2.4  0.0  0.3  3.4   \n",
       "3           179         143   28  ...  0.1  0.0  12.2  -2.2  0.0  0.4  2.6   \n",
       "4           177         103  -16  ... -0.4  0.0  13.1  -3.6  0.0 -0.1  3.9   \n",
       "..          ...         ...  ...  ...  ...  ...   ...   ...  ...  ...  ...   \n",
       "447         154         117  -37  ...  0.0  0.0   4.3  -5.0  0.0  0.7  0.6   \n",
       "448         201          73   86  ... -0.5  0.0  15.6  -1.6  0.0  0.4  2.4   \n",
       "449         194         116  -85  ...  1.2  0.0  16.3 -28.6  0.0  1.5  1.0   \n",
       "450         218          63   54  ...  0.2 -0.4  12.0  -0.7  0.0  0.5  2.4   \n",
       "451         138          78   28  ... -0.3  0.0  10.4  -1.8  0.0  0.5  1.6   \n",
       "\n",
       "       LF    LG  diagnosis  \n",
       "0    23.3  49.4       Risk  \n",
       "1    20.4  38.8       Risk  \n",
       "2    12.3  49.0       Risk  \n",
       "3    34.6  61.6     Normal  \n",
       "4    25.4  62.8       Risk  \n",
       "..    ...   ...        ...  \n",
       "447  -4.4  -0.5     Normal  \n",
       "448  38.0  62.4       Risk  \n",
       "449 -44.2 -33.2       Risk  \n",
       "450  25.0  46.6     Normal  \n",
       "451  21.3  32.8     Normal  \n",
       "\n",
       "[452 rows x 262 columns]"
      ]
     },
     "execution_count": 91,
     "metadata": {},
     "output_type": "execute_result"
    }
   ],
   "source": [
    "df3 = df2.copy()\n",
    "df3 = df3.drop(columns=['J'])\n",
    "df3"
   ]
  },
  {
   "cell_type": "markdown",
   "id": "b8e2032e",
   "metadata": {},
   "source": [
    "Handling missing values: for the remaining features with missing values we will assign mean or median values depending on histogram distribution."
   ]
  },
  {
   "cell_type": "code",
   "execution_count": 92,
   "id": "14fe990a",
   "metadata": {},
   "outputs": [
    {
     "name": "stdout",
     "output_type": "stream",
     "text": [
      "Histogram for P:\n"
     ]
    },
    {
     "data": {
      "image/png": "[encoded data removed]",
      "text/plain": [
       "<Figure size 432x288 with 1 Axes>"
      ]
     },
     "metadata": {
      "needs_background": "light"
     },
     "output_type": "display_data"
    },
    {
     "name": "stdout",
     "output_type": "stream",
     "text": [
      "Histogram for T:\n"
     ]
    },
    {
     "data": {
      "image/png": "[encoded data removed]",
      "text/plain": [
       "<Figure size 432x288 with 1 Axes>"
      ]
     },
     "metadata": {
      "needs_background": "light"
     },
     "output_type": "display_data"
    },
    {
     "name": "stdout",
     "output_type": "stream",
     "text": [
      "Histogram for QRST:\n"
     ]
    },
    {
     "data": {
      "image/png": "[encoded data removed]",
      "text/plain": [
       "<Figure size 432x288 with 1 Axes>"
      ]
     },
     "metadata": {
      "needs_background": "light"
     },
     "output_type": "display_data"
    },
    {
     "name": "stdout",
     "output_type": "stream",
     "text": [
      "Histogram for heart_rate:\n"
     ]
    },
    {
     "data": {
      "image/png": "[encoded data removed]",
      "text/plain": [
       "<Figure size 432x288 with 1 Axes>"
      ]
     },
     "metadata": {
      "needs_background": "light"
     },
     "output_type": "display_data"
    }
   ],
   "source": [
    "missing_features = ['P','T','QRST','heart_rate'] #list pf features with missing data\n",
    "\n",
    "for feature in missing_features: print_hist(df3,feature,30)"
   ]
  },
  {
   "cell_type": "markdown",
   "id": "d055ef28",
   "metadata": {},
   "source": [
    "All histograms seem to be unfair and biased so we will assign median values using sci-kit library \"impute\"."
   ]
  },
  {
   "cell_type": "code",
   "execution_count": 93,
   "id": "691adccf",
   "metadata": {},
   "outputs": [],
   "source": [
    "from sklearn.impute import SimpleImputer\n",
    "\n",
    "df4 = df3.copy() #create a new copy of the dataset\n",
    "X_df = df4.loc[:,df4.columns != 'diagnosis'] #select all features except target feature\n",
    "X = np.array(X_df) #convert it to array (Simple Imputer doesn't work with dataframes)\n",
    "imp = SimpleImputer(missing_values=np.nan, strategy='median') #create imp object to impute median in all missing values \n",
    "imp = imp.fit(X) #calculate median values of the features with missing values\n",
    "X_imp = imp.transform(X) #fill dataset with median values wherever finds missing values"
   ]
  },
  {
   "cell_type": "markdown",
   "id": "457f8cff",
   "metadata": {},
   "source": [
    "Check if there are any missing values:"
   ]
  },
  {
   "cell_type": "code",
   "execution_count": 94,
   "id": "a12de7f6",
   "metadata": {},
   "outputs": [
    {
     "data": {
      "text/plain": [
       "0"
      ]
     },
     "execution_count": 94,
     "metadata": {},
     "output_type": "execute_result"
    }
   ],
   "source": [
    "np.isnan(X_imp).sum().sum() #total number of missing values in the dataset"
   ]
  },
  {
   "cell_type": "code",
   "execution_count": 95,
   "id": "7135a367",
   "metadata": {},
   "outputs": [],
   "source": [
    "df4.to_csv(\"cleandata.csv\",index=False)"
   ]
  },
  {
   "cell_type": "markdown",
   "id": "74bf6382",
   "metadata": {},
   "source": [
    "Hence we have removed missing and incorrect values and successfully cleansed the data for first prediction."
   ]
  },
  {
   "cell_type": "markdown",
   "id": "229a245b",
   "metadata": {},
   "source": [
    "There are 16 classes as follows\n",
    "\n",
    "Normal\n",
    "1. Ischemic changes (Coronary Artery Disease\n",
    "2. Old Anterior Myocardial Infarction\n",
    "3. Old Inferior Myocardial Infarction\n",
    "4. Sinus tachycardy\n",
    "5. Sinus bradycardy\n",
    "6. Ventricular Premature Contraction (PVC)\n",
    "7. Supraventricular Premature Contraction\n",
    "8. Left bundle branch block\n",
    "9. Right bundle branch block\n",
    "10. degree AtrioVentricular block\n",
    "11. degree AV block\n",
    "12. degree AV block\n",
    "13. Left ventricule hypertrophy\n",
    "14. Atrial Fibrillation or Flutter\n",
    "15. Others\n",
    "However only first one is a normal kind of arrythmia where the other classes can be superclassed as risky arrythmia cases all cases are classified as either normal or risky. Risky being the positive (True) case and normal being the negative (False) case, diagnosis column is changed."
   ]
  },
  {
   "cell_type": "code",
   "execution_count": 96,
   "id": "6990d4a2",
   "metadata": {},
   "outputs": [
    {
     "name": "stdout",
     "output_type": "stream",
     "text": [
      "(316, 261)\n",
      "(136, 261)\n",
      "(316,)\n",
      "(136,)\n"
     ]
    }
   ],
   "source": [
    "from sklearn.model_selection import train_test_split\n",
    "\n",
    "y = df4.iloc[:,-1] #subset target label\n",
    "\n",
    "# splitting train and test data with same seed (random_state=1)\n",
    "X_train, X_test, y_train, y_test = train_test_split(X_imp, y, test_size=0.3, random_state=1) #70%/30% splitting\n",
    "\n",
    "print(X_train.shape)\n",
    "print(X_test.shape)\n",
    "print(y_train.shape)\n",
    "print(y_test.shape)"
   ]
  },
  {
   "cell_type": "code",
   "execution_count": 97,
   "id": "5a3f6b04",
   "metadata": {},
   "outputs": [
    {
     "name": "stdout",
     "output_type": "stream",
     "text": [
      "Normal instances in test set: 73\n",
      "Risk instances in test set: 63\n"
     ]
    }
   ],
   "source": [
    "print('Normal instances in test set: ' + str(sum(y_test==\"Normal\")))\n",
    "print('Risk instances in test set: ' + str(sum(y_test==\"Risk\"))) "
   ]
  },
  {
   "cell_type": "code",
   "execution_count": null,
   "id": "70bee24d",
   "metadata": {},
   "outputs": [],
   "source": []
  },
  {
   "cell_type": "code",
   "execution_count": 98,
   "id": "2feac664",
   "metadata": {},
   "outputs": [],
   "source": [
    "from sklearn.model_selection import train_test_split\n",
    "from sklearn.preprocessing import MinMaxScaler"
   ]
  },
  {
   "cell_type": "code",
   "execution_count": 99,
   "id": "5ac74232",
   "metadata": {},
   "outputs": [],
   "source": [
    "scaler = MinMaxScaler()\n",
    "X_train_scaled = scaler.fit_transform(X_train)\n",
    "X_test_scaled = scaler.transform(X_test)\n",
    "X_train = X_train_scaled\n",
    "X_test = X_test_scaled"
   ]
  },
  {
   "cell_type": "code",
   "execution_count": 100,
   "id": "f49f0bb5",
   "metadata": {},
   "outputs": [],
   "source": [
    "model_names = [\"Logistic Regression\",\n",
    "               \"K-Nearest Neighbors\",\n",
    "               \"Decision Tree Classifier\",\n",
    "               \"Random Forest Classifier\",\n",
    "               \"Gaussian Naive Bayes\"]\n",
    "\n",
    "models = []\n",
    "predictions = []\n",
    "pred_probabilities = []"
   ]
  },
  {
   "cell_type": "code",
   "execution_count": 101,
   "id": "1802d5cb",
   "metadata": {},
   "outputs": [],
   "source": [
    "from sklearn.linear_model import LogisticRegression\n",
    "from sklearn.neighbors import KNeighborsClassifier\n",
    "from sklearn.tree import DecisionTreeClassifier\n",
    "from sklearn.ensemble import RandomForestClassifier\n",
    "from sklearn.naive_bayes import GaussianNB\n",
    "from sklearn.metrics import roc_auc_score, roc_curve, accuracy_score, confusion_matrix"
   ]
  },
  {
   "cell_type": "code",
   "execution_count": 102,
   "id": "64a29ff4",
   "metadata": {},
   "outputs": [
    {
     "name": "stderr",
     "output_type": "stream",
     "text": [
      "c:\\users\\ganesh\\appdata\\local\\programs\\python\\python39\\lib\\site-packages\\sklearn\\linear_model\\_sag.py:352: ConvergenceWarning: The max_iter was reached which means the coef_ did not converge\n",
      "  warnings.warn(\n"
     ]
    }
   ],
   "source": [
    "log_model = LogisticRegression(random_state=0,solver = \"saga\")\n",
    "models.append(log_model)\n",
    "log_model.fit(X_train, y_train)\n",
    "log_predprob = log_model.predict_proba(X_test)\n",
    "pred_probabilities.append(log_predprob)\n",
    "log_pred = log_model.predict(X_test)\n",
    "predictions.append(log_pred)"
   ]
  },
  {
   "cell_type": "code",
   "execution_count": 103,
   "id": "1996e5e7",
   "metadata": {},
   "outputs": [],
   "source": [
    "knn_model = KNeighborsClassifier(n_neighbors=80)\n",
    "models.append(knn_model)\n",
    "knn_model.fit(X_train, y_train)\n",
    "knn_predprob = knn_model.predict_proba(X_test)\n",
    "pred_probabilities.append(knn_predprob)\n",
    "knn_pred = knn_model.predict(X_test)\n",
    "predictions.append(knn_pred)"
   ]
  },
  {
   "cell_type": "code",
   "execution_count": 104,
   "id": "b8b4e5d9",
   "metadata": {},
   "outputs": [],
   "source": [
    "tree_model = DecisionTreeClassifier(random_state=0,max_depth = 8,max_features=\"auto\")\n",
    "models.append(tree_model)\n",
    "tree_model.fit(X_train, y_train)\n",
    "tree_predprob = tree_model.predict_proba(X_test)\n",
    "pred_probabilities.append(tree_predprob)\n",
    "tree_pred = tree_model.predict(X_test)\n",
    "predictions.append(tree_pred)"
   ]
  },
  {
   "cell_type": "code",
   "execution_count": 105,
   "id": "6f22febe",
   "metadata": {},
   "outputs": [],
   "source": [
    "rndfor_model = RandomForestClassifier(max_depth=9, random_state=0,n_estimators = 100)\n",
    "models.append(rndfor_model)\n",
    "rndfor_model.fit(X_train, y_train)\n",
    "rndfor_predprob = rndfor_model.predict_proba(X_test)\n",
    "pred_probabilities.append(rndfor_predprob)\n",
    "rndfor_pred = rndfor_model.predict(X_test)\n",
    "predictions.append(rndfor_pred)"
   ]
  },
  {
   "cell_type": "code",
   "execution_count": 106,
   "id": "f6c80673",
   "metadata": {},
   "outputs": [
    {
     "data": {
      "text/plain": [
       "(136, 2)"
      ]
     },
     "execution_count": 106,
     "metadata": {},
     "output_type": "execute_result"
    }
   ],
   "source": [
    "nb_model = GaussianNB(var_smoothing = 0.00001)\n",
    "models.append(nb_model)\n",
    "nb_model.fit(X_train, y_train)\n",
    "nb_predprob = nb_model.predict_proba(X_test)\n",
    "pred_probabilities.append(nb_predprob)\n",
    "nb_pred = nb_model.predict(X_test)\n",
    "predictions.append(nb_pred)\n",
    "nb_predprob.shape"
   ]
  },
  {
   "cell_type": "code",
   "execution_count": 107,
   "id": "698b5128",
   "metadata": {},
   "outputs": [
    {
     "name": "stdout",
     "output_type": "stream",
     "text": [
      "Logistic Regression Accuracy: 77.94 %\n",
      "K-Nearest Neighbors Accuracy: 54.41 %\n",
      "Decision Tree Classifier Accuracy: 63.24 %\n",
      "Random Forest Classifier Accuracy: 78.68 %\n",
      "Gaussian Naive Bayes Accuracy: 72.79 %\n"
     ]
    }
   ],
   "source": [
    "for name,pred in zip(model_names,predictions):\n",
    "    print(name,\"Accuracy:\",round(accuracy_score(y_test,pred) * 100 , 2),\"%\")"
   ]
  },
  {
   "cell_type": "markdown",
   "id": "595afd44",
   "metadata": {},
   "source": [
    "Predicting Using Random Forest "
   ]
  },
  {
   "cell_type": "code",
   "execution_count": null,
   "id": "255e1c46",
   "metadata": {},
   "outputs": [],
   "source": []
  },
  {
   "cell_type": "code",
   "execution_count": 108,
   "id": "5da78c29",
   "metadata": {},
   "outputs": [],
   "source": [
    "from sklearn.preprocessing import StandardScaler    \n",
    "st_x= StandardScaler()    \n",
    "x_train= st_x.fit_transform(X_train)    \n",
    "x_test= st_x.transform(X_test)  "
   ]
  },
  {
   "cell_type": "code",
   "execution_count": 109,
   "id": "69eae9eb",
   "metadata": {},
   "outputs": [
    {
     "data": {
      "text/plain": [
       "RandomForestClassifier(criterion='entropy', n_estimators=10)"
      ]
     },
     "execution_count": 109,
     "metadata": {},
     "output_type": "execute_result"
    }
   ],
   "source": [
    "#Fitting Decision Tree classifier to the training set  \n",
    "from sklearn.ensemble import RandomForestClassifier  \n",
    "classifier= RandomForestClassifier(n_estimators= 10, criterion=\"entropy\")  \n",
    "classifier.fit(x_train, y_train)  "
   ]
  },
  {
   "cell_type": "code",
   "execution_count": 110,
   "id": "3a29d3d3",
   "metadata": {},
   "outputs": [
    {
     "data": {
      "text/plain": [
       "array(['Risk', 'Normal', 'Normal', 'Normal', 'Normal', 'Normal', 'Normal',\n",
       "       'Normal', 'Normal', 'Risk', 'Normal', 'Normal', 'Normal', 'Risk',\n",
       "       'Normal', 'Risk', 'Normal', 'Normal', 'Normal', 'Normal', 'Normal',\n",
       "       'Risk', 'Normal', 'Normal', 'Risk', 'Risk', 'Normal', 'Normal',\n",
       "       'Normal', 'Normal', 'Normal', 'Risk', 'Risk', 'Normal', 'Normal',\n",
       "       'Normal', 'Normal', 'Normal', 'Normal', 'Normal', 'Normal',\n",
       "       'Normal', 'Normal', 'Normal', 'Normal', 'Risk', 'Risk', 'Risk',\n",
       "       'Normal', 'Normal', 'Normal', 'Normal', 'Risk', 'Risk', 'Risk',\n",
       "       'Risk', 'Risk', 'Normal', 'Normal', 'Normal', 'Risk', 'Risk',\n",
       "       'Normal', 'Normal', 'Normal', 'Normal', 'Normal', 'Risk', 'Risk',\n",
       "       'Risk', 'Normal', 'Risk', 'Risk', 'Normal', 'Risk', 'Risk',\n",
       "       'Normal', 'Risk', 'Normal', 'Risk', 'Risk', 'Risk', 'Normal',\n",
       "       'Risk', 'Risk', 'Normal', 'Normal', 'Risk', 'Normal', 'Normal',\n",
       "       'Normal', 'Risk', 'Risk', 'Risk', 'Normal', 'Normal', 'Normal',\n",
       "       'Normal', 'Normal', 'Normal', 'Risk', 'Risk', 'Normal', 'Normal',\n",
       "       'Normal', 'Risk', 'Risk', 'Risk', 'Normal', 'Risk', 'Normal',\n",
       "       'Risk', 'Normal', 'Normal', 'Normal', 'Normal', 'Risk', 'Risk',\n",
       "       'Normal', 'Risk', 'Normal', 'Normal', 'Risk', 'Normal', 'Normal',\n",
       "       'Risk', 'Normal', 'Normal', 'Normal', 'Normal', 'Normal', 'Normal',\n",
       "       'Normal', 'Risk', 'Normal', 'Normal'], dtype=object)"
      ]
     },
     "execution_count": 110,
     "metadata": {},
     "output_type": "execute_result"
    }
   ],
   "source": [
    "#Predicting the test set result  \n",
    "y_pred= classifier.predict(x_test)\n",
    "y_pred"
   ]
  },
  {
   "cell_type": "code",
   "execution_count": 111,
   "id": "b77e0caa",
   "metadata": {},
   "outputs": [
    {
     "name": "stdout",
     "output_type": "stream",
     "text": [
      "[[64  9]\n",
      " [23 40]]\n"
     ]
    }
   ],
   "source": [
    "#Creating the Confusion matrix  \n",
    "from sklearn.metrics import confusion_matrix  \n",
    "print(confusion_matrix(y_test, y_pred)) "
   ]
  },
  {
   "cell_type": "code",
   "execution_count": null,
   "id": "e93204dc",
   "metadata": {},
   "outputs": [],
   "source": []
  },
  {
   "cell_type": "code",
   "execution_count": null,
   "id": "8fe7814d",
   "metadata": {},
   "outputs": [],
   "source": []
  },
  {
   "cell_type": "code",
   "execution_count": null,
   "id": "549fd237",
   "metadata": {},
   "outputs": [],
   "source": []
  },
  {
   "cell_type": "code",
   "execution_count": null,
   "id": "27320a3a",
   "metadata": {},
   "outputs": [],
   "source": []
  }
 ],
 "metadata": {
  "kernelspec": {
   "display_name": "Python 3 (ipykernel)",
   "language": "python",
   "name": "python3"
  },
  "language_info": {
   "codemirror_mode": {
    "name": "ipython",
    "version": 3
   },
   "file_extension": ".py",
   "mimetype": "text/x-python",
   "name": "python",
   "nbconvert_exporter": "python",
   "pygments_lexer": "ipython3",
   "version": "3.9.1"
  }
 },
 "nbformat": 4,
 "nbformat_minor": 5
}
